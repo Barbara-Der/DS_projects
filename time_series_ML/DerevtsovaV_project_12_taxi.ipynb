{
 "cells": [
  {
   "cell_type": "markdown",
   "metadata": {
    "toc": true
   },
   "source": [
    "<h1>Содержание<span class=\"tocSkip\"></span></h1>\n",
    "<div class=\"toc\"><ul class=\"toc-item\"><li><span><a href=\"#Подготовка\" data-toc-modified-id=\"Подготовка-1\"><span class=\"toc-item-num\">1&nbsp;&nbsp;</span>Подготовка</a></span></li><li><span><a href=\"#Анализ\" data-toc-modified-id=\"Анализ-2\"><span class=\"toc-item-num\">2&nbsp;&nbsp;</span>Анализ</a></span></li><li><span><a href=\"#Обучение\" data-toc-modified-id=\"Обучение-3\"><span class=\"toc-item-num\">3&nbsp;&nbsp;</span>Обучение</a></span><ul class=\"toc-item\"><li><span><a href=\"#Подготовка-для-обучения-моделей\" data-toc-modified-id=\"Подготовка-для-обучения-моделей-3.1\"><span class=\"toc-item-num\">3.1&nbsp;&nbsp;</span>Подготовка для обучения моделей</a></span></li><li><span><a href=\"#Обучение-моделей\" data-toc-modified-id=\"Обучение-моделей-3.2\"><span class=\"toc-item-num\">3.2&nbsp;&nbsp;</span>Обучение моделей</a></span><ul class=\"toc-item\"><li><span><a href=\"#Линейная-регрессия\" data-toc-modified-id=\"Линейная-регрессия-3.2.1\"><span class=\"toc-item-num\">3.2.1&nbsp;&nbsp;</span>Линейная регрессия</a></span></li><li><span><a href=\"#Случайный-лес-деревьев\" data-toc-modified-id=\"Случайный-лес-деревьев-3.2.2\"><span class=\"toc-item-num\">3.2.2&nbsp;&nbsp;</span>Случайный лес деревьев</a></span></li><li><span><a href=\"#CatBoost\" data-toc-modified-id=\"CatBoost-3.2.3\"><span class=\"toc-item-num\">3.2.3&nbsp;&nbsp;</span>CatBoost</a></span></li><li><span><a href=\"#LightGBM\" data-toc-modified-id=\"LightGBM-3.2.4\"><span class=\"toc-item-num\">3.2.4&nbsp;&nbsp;</span>LightGBM</a></span></li></ul></li></ul></li><li><span><a href=\"#Тестирование\" data-toc-modified-id=\"Тестирование-4\"><span class=\"toc-item-num\">4&nbsp;&nbsp;</span>Тестирование</a></span></li><li><span><a href=\"#Общий-вывод\" data-toc-modified-id=\"Общий-вывод-5\"><span class=\"toc-item-num\">5&nbsp;&nbsp;</span>Общий вывод</a></span></li></ul></div>"
   ]
  },
  {
   "cell_type": "markdown",
   "metadata": {},
   "source": [
    "#  Прогнозирование заказов такси"
   ]
  },
  {
   "cell_type": "markdown",
   "metadata": {},
   "source": [
    "Компания «Чётенькое такси» собрала исторические данные о заказах такси в аэропортах. Чтобы привлекать больше водителей в период пиковой нагрузки, нужно спрогнозировать количество заказов такси на следующий час. Необходимо построить модель для такого предсказания. Значение метрики *RMSE* на тестовой выборке должно быть не больше 48.\n",
    "\n",
    "Нужно:\n",
    "\n",
    "1. Загрузить данные и выполнить их ресемплирование по одному часу.\n",
    "2. Проанализировать данные.\n",
    "3. Обучить разные модели с различными гиперпараметрами. Сделать тестовую выборку размером 10% от исходных данных.\n",
    "4. Проверить данные на тестовой выборке и сделать выводы."
   ]
  },
  {
   "cell_type": "markdown",
   "metadata": {},
   "source": [
    "## Подготовка"
   ]
  },
  {
   "cell_type": "code",
   "execution_count": 30,
   "metadata": {},
   "outputs": [],
   "source": [
    "# импортируем необходимые библиотеки\n",
    "import pandas as pd\n",
    "import numpy as np\n",
    "import matplotlib.pyplot as plt\n",
    "from statsmodels.tsa.seasonal import seasonal_decompose\n",
    "from sklearn.model_selection import train_test_split, TimeSeriesSplit, GridSearchCV\n",
    "from sklearn.metrics import mean_squared_error, make_scorer\n",
    "from sklearn.linear_model import LinearRegression\n",
    "from sklearn.ensemble import RandomForestRegressor\n",
    "from sklearn.dummy import DummyClassifier\n",
    "from lightgbm import LGBMRegressor\n",
    "from catboost import CatBoostRegressor"
   ]
  },
  {
   "cell_type": "code",
   "execution_count": 2,
   "metadata": {},
   "outputs": [
    {
     "name": "stdout",
     "output_type": "stream",
     "text": [
      "<class 'pandas.core.frame.DataFrame'>\n",
      "RangeIndex: 26496 entries, 0 to 26495\n",
      "Data columns (total 2 columns):\n",
      " #   Column      Non-Null Count  Dtype \n",
      "---  ------      --------------  ----- \n",
      " 0   datetime    26496 non-null  object\n",
      " 1   num_orders  26496 non-null  int64 \n",
      "dtypes: int64(1), object(1)\n",
      "memory usage: 414.1+ KB\n"
     ]
    }
   ],
   "source": [
    "# изучим файл\n",
    "proba = pd.read_csv('/Users/Varvara/Documents/dataset/taxi.csv')\n",
    "proba.info()"
   ]
  },
  {
   "cell_type": "code",
   "execution_count": 3,
   "metadata": {},
   "outputs": [
    {
     "data": {
      "text/plain": [
       "0"
      ]
     },
     "execution_count": 3,
     "metadata": {},
     "output_type": "execute_result"
    }
   ],
   "source": [
    "# перед изменениями проверим данные на явные дубликаты\n",
    "proba.duplicated().sum()"
   ]
  },
  {
   "cell_type": "code",
   "execution_count": 4,
   "metadata": {},
   "outputs": [],
   "source": [
    "# запишем данные в переменную, изменив тип данных столбца datetime с object на datetime64\n",
    "# установим индекс таблицы равным столбцу datetime \n",
    "data = pd.read_csv('/Users/Varvara/Documents/dataset/taxi.csv', index_col=[0], parse_dates=[0])"
   ]
  },
  {
   "cell_type": "code",
   "execution_count": 5,
   "metadata": {},
   "outputs": [
    {
     "data": {
      "text/plain": [
       "True"
      ]
     },
     "execution_count": 5,
     "metadata": {},
     "output_type": "execute_result"
    }
   ],
   "source": [
    "# проверим, отсортированы ли данные в хронологическом порядке\n",
    "data.index.is_monotonic"
   ]
  },
  {
   "cell_type": "code",
   "execution_count": 6,
   "metadata": {},
   "outputs": [],
   "source": [
    "# сделаем ресемплинг по 1 часу\n",
    "data = data.resample('1H').sum()"
   ]
  },
  {
   "cell_type": "markdown",
   "metadata": {},
   "source": [
    "## Анализ"
   ]
  },
  {
   "cell_type": "code",
   "execution_count": 7,
   "metadata": {
    "scrolled": true
   },
   "outputs": [
    {
     "name": "stdout",
     "output_type": "stream",
     "text": [
      "<class 'pandas.core.frame.DataFrame'>\n",
      "DatetimeIndex: 4416 entries, 2018-03-01 00:00:00 to 2018-08-31 23:00:00\n",
      "Freq: H\n",
      "Data columns (total 1 columns):\n",
      " #   Column      Non-Null Count  Dtype\n",
      "---  ------      --------------  -----\n",
      " 0   num_orders  4416 non-null   int64\n",
      "dtypes: int64(1)\n",
      "memory usage: 69.0 KB\n"
     ]
    }
   ],
   "source": [
    "data.info()"
   ]
  },
  {
   "cell_type": "code",
   "execution_count": 8,
   "metadata": {},
   "outputs": [
    {
     "data": {
      "text/html": [
       "<div>\n",
       "<style scoped>\n",
       "    .dataframe tbody tr th:only-of-type {\n",
       "        vertical-align: middle;\n",
       "    }\n",
       "\n",
       "    .dataframe tbody tr th {\n",
       "        vertical-align: top;\n",
       "    }\n",
       "\n",
       "    .dataframe thead th {\n",
       "        text-align: right;\n",
       "    }\n",
       "</style>\n",
       "<table border=\"1\" class=\"dataframe\">\n",
       "  <thead>\n",
       "    <tr style=\"text-align: right;\">\n",
       "      <th></th>\n",
       "      <th>num_orders</th>\n",
       "    </tr>\n",
       "    <tr>\n",
       "      <th>datetime</th>\n",
       "      <th></th>\n",
       "    </tr>\n",
       "  </thead>\n",
       "  <tbody>\n",
       "    <tr>\n",
       "      <th>2018-03-01 00:00:00</th>\n",
       "      <td>124</td>\n",
       "    </tr>\n",
       "    <tr>\n",
       "      <th>2018-03-01 01:00:00</th>\n",
       "      <td>85</td>\n",
       "    </tr>\n",
       "    <tr>\n",
       "      <th>2018-03-01 02:00:00</th>\n",
       "      <td>71</td>\n",
       "    </tr>\n",
       "    <tr>\n",
       "      <th>2018-03-01 03:00:00</th>\n",
       "      <td>66</td>\n",
       "    </tr>\n",
       "    <tr>\n",
       "      <th>2018-03-01 04:00:00</th>\n",
       "      <td>43</td>\n",
       "    </tr>\n",
       "  </tbody>\n",
       "</table>\n",
       "</div>"
      ],
      "text/plain": [
       "                     num_orders\n",
       "datetime                       \n",
       "2018-03-01 00:00:00         124\n",
       "2018-03-01 01:00:00          85\n",
       "2018-03-01 02:00:00          71\n",
       "2018-03-01 03:00:00          66\n",
       "2018-03-01 04:00:00          43"
      ]
     },
     "execution_count": 8,
     "metadata": {},
     "output_type": "execute_result"
    }
   ],
   "source": [
    "data.head()"
   ]
  },
  {
   "cell_type": "code",
   "execution_count": 9,
   "metadata": {},
   "outputs": [
    {
     "data": {
      "image/png": "[encoded data removed]",
      "text/plain": [
       "<Figure size 640x480 with 1 Axes>"
      ]
     },
     "metadata": {},
     "output_type": "display_data"
    },
    {
     "data": {
      "text/html": [
       "<div>\n",
       "<style scoped>\n",
       "    .dataframe tbody tr th:only-of-type {\n",
       "        vertical-align: middle;\n",
       "    }\n",
       "\n",
       "    .dataframe tbody tr th {\n",
       "        vertical-align: top;\n",
       "    }\n",
       "\n",
       "    .dataframe thead th {\n",
       "        text-align: right;\n",
       "    }\n",
       "</style>\n",
       "<table border=\"1\" class=\"dataframe\">\n",
       "  <thead>\n",
       "    <tr style=\"text-align: right;\">\n",
       "      <th></th>\n",
       "      <th>num_orders</th>\n",
       "    </tr>\n",
       "  </thead>\n",
       "  <tbody>\n",
       "    <tr>\n",
       "      <th>count</th>\n",
       "      <td>4416.000000</td>\n",
       "    </tr>\n",
       "    <tr>\n",
       "      <th>mean</th>\n",
       "      <td>84.422781</td>\n",
       "    </tr>\n",
       "    <tr>\n",
       "      <th>std</th>\n",
       "      <td>45.023853</td>\n",
       "    </tr>\n",
       "    <tr>\n",
       "      <th>min</th>\n",
       "      <td>0.000000</td>\n",
       "    </tr>\n",
       "    <tr>\n",
       "      <th>25%</th>\n",
       "      <td>54.000000</td>\n",
       "    </tr>\n",
       "    <tr>\n",
       "      <th>50%</th>\n",
       "      <td>78.000000</td>\n",
       "    </tr>\n",
       "    <tr>\n",
       "      <th>75%</th>\n",
       "      <td>107.000000</td>\n",
       "    </tr>\n",
       "    <tr>\n",
       "      <th>max</th>\n",
       "      <td>462.000000</td>\n",
       "    </tr>\n",
       "  </tbody>\n",
       "</table>\n",
       "</div>"
      ],
      "text/plain": [
       "        num_orders\n",
       "count  4416.000000\n",
       "mean     84.422781\n",
       "std      45.023853\n",
       "min       0.000000\n",
       "25%      54.000000\n",
       "50%      78.000000\n",
       "75%     107.000000\n",
       "max     462.000000"
      ]
     },
     "execution_count": 9,
     "metadata": {},
     "output_type": "execute_result"
    }
   ],
   "source": [
    "data.describe().drop(['count']).plot()\n",
    "plt.title('График распределения количества заказов')\n",
    "plt.ylabel('Количество')\n",
    "plt.show()\n",
    "data.describe()"
   ]
  },
  {
   "cell_type": "code",
   "execution_count": 10,
   "metadata": {},
   "outputs": [
    {
     "data": {
      "image/png": "[encoded data removed]",
      "text/plain": [
       "<Figure size 600x800 with 2 Axes>"
      ]
     },
     "metadata": {},
     "output_type": "display_data"
    }
   ],
   "source": [
    "# изучим тренд и сезонность данных\n",
    "decomposed = seasonal_decompose(data)\n",
    "\n",
    "plt.figure(figsize=(6, 8))\n",
    "plt.subplot(311)\n",
    "decomposed.trend.plot(ax=plt.gca())\n",
    "plt.title('Тренд')\n",
    "\n",
    "plt.subplot(312)\n",
    "decomposed.seasonal.plot(ax=plt.gca())\n",
    "plt.title('Сезонность')\n",
    "\n",
    "plt.tight_layout()"
   ]
  },
  {
   "cell_type": "code",
   "execution_count": 11,
   "metadata": {},
   "outputs": [
    {
     "data": {
      "text/plain": [
       "<AxesSubplot:xlabel='datetime'>"
      ]
     },
     "execution_count": 11,
     "metadata": {},
     "output_type": "execute_result"
    },
    {
     "data": {
      "image/png": "[encoded data removed]",
      "text/plain": [
       "<Figure size 640x480 with 1 Axes>"
      ]
     },
     "metadata": {},
     "output_type": "display_data"
    }
   ],
   "source": [
    "# проверим месячную сезонность\n",
    "decomposed.seasonal['2018-03-01':'2018-03-31'].plot(ax=plt.gca())"
   ]
  },
  {
   "cell_type": "code",
   "execution_count": 12,
   "metadata": {},
   "outputs": [
    {
     "data": {
      "text/plain": [
       "<AxesSubplot:xlabel='datetime'>"
      ]
     },
     "execution_count": 12,
     "metadata": {},
     "output_type": "execute_result"
    },
    {
     "data": {
      "image/png": "[encoded data removed]",
      "text/plain": [
       "<Figure size 640x480 with 1 Axes>"
      ]
     },
     "metadata": {},
     "output_type": "display_data"
    }
   ],
   "source": [
    "# проверим недельную сезонность\n",
    "decomposed.seasonal['2018-03-01':'2018-03-07'].plot(ax=plt.gca())"
   ]
  },
  {
   "cell_type": "markdown",
   "metadata": {},
   "source": [
    "**Выводы**\n",
    "\n",
    "В исходной таблице данные со временем и количеством заказов такси. Таблица содержит 26496 строк и 2 столбца. Явных дубликатов и пропусков нет, столбцы названы в соответсвии с хорошим стилем. Данные осортированы в хорологическом порядке.\n",
    "\n",
    "Было произведено объединение данных по времени с интервалом в один час. После объединения в таблице стало 4416 строк. В среднем за один час совершается около 84 заказов такси, однако бывает и ни одного заказа, а бывает 462.\n",
    "\n",
    "В результате анализа динамики изменений количества заказов был выявлен несезонный тренд на рост количества вызываемых такси. Вероятно, у заказов есть сезонность, но для такого заключения недостаточно данных (необходимо собрать их за несколько лет). Данные поддаются описанию стационарным стохаическим процессом, по ним можно делать прогнозы."
   ]
  },
  {
   "cell_type": "markdown",
   "metadata": {},
   "source": [
    "## Обучение"
   ]
  },
  {
   "cell_type": "markdown",
   "metadata": {},
   "source": [
    "### Подготовка для обучения моделей"
   ]
  },
  {
   "cell_type": "code",
   "execution_count": 13,
   "metadata": {},
   "outputs": [],
   "source": [
    "# напишем функцию, которая добавит в таблицу признаков\n",
    "def make_features(data, max_lag, rolling_mean_size):\n",
    "    data_n = data.copy()\n",
    "    \n",
    "    data_n['month'] = data_n.index.month\n",
    "    data_n['day'] = data_n.index.day\n",
    "    data_n['dayofweek'] = data_n.index.dayofweek\n",
    "    data_n['hour'] = data_n.index.hour\n",
    "    \n",
    "    for lag in range(1, max_lag + 1):\n",
    "        data_n['lag_{}'.format(lag)] = data_n['num_orders'].shift(lag)\n",
    "\n",
    "    data_n['rolling_mean'] = data_n['num_orders'].shift().rolling(rolling_mean_size).mean()\n",
    "    return data_n"
   ]
  },
  {
   "cell_type": "code",
   "execution_count": 14,
   "metadata": {},
   "outputs": [],
   "source": [
    "# добавим признаков \n",
    "data = make_features(data, 3, 1)"
   ]
  },
  {
   "cell_type": "code",
   "execution_count": 15,
   "metadata": {},
   "outputs": [
    {
     "name": "stdout",
     "output_type": "stream",
     "text": [
      "Обучающая выборка содержит 3090 строк\n",
      "Валидационная выборка содержит 884 строк\n",
      "Тестовая выборка содержит 442 строк\n"
     ]
    }
   ],
   "source": [
    "# разделим данные на обучающую, валидационную и тестовую выборки\n",
    "# для тестовой выборки выделим 10% данных, для валидационной - 20%:\n",
    "train_f, valid = train_test_split(data, shuffle=False, test_size=0.2, train_size=0.8)\n",
    "train, test = train_test_split(train_f, shuffle=False, test_size=0.125, train_size=0.875)\n",
    "\n",
    "print('Обучающая выборка содержит', train.shape[0], 'строк')\n",
    "print('Валидационная выборка содержит', valid.shape[0], 'строк')\n",
    "print('Тестовая выборка содержит', test.shape[0], 'строк')"
   ]
  },
  {
   "cell_type": "code",
   "execution_count": 16,
   "metadata": {},
   "outputs": [],
   "source": [
    "# после добавления новых признаков из-за отстающих значений появились пропуски, удалим их\n",
    "train = train.dropna()"
   ]
  },
  {
   "cell_type": "code",
   "execution_count": 17,
   "metadata": {},
   "outputs": [],
   "source": [
    "# подготовим признаки\n",
    "features_train = train.drop(['num_orders'], axis=1)\n",
    "target_train = train['num_orders']\n",
    "features_valid = valid.drop(['num_orders'], axis=1)\n",
    "target_valid = valid['num_orders']\n",
    "features_test = test.drop(['num_orders'], axis=1)\n",
    "target_test = test['num_orders']"
   ]
  },
  {
   "cell_type": "markdown",
   "metadata": {},
   "source": [
    "### Обучение моделей"
   ]
  },
  {
   "cell_type": "code",
   "execution_count": 18,
   "metadata": {},
   "outputs": [],
   "source": [
    "# назначим новую метрику scorer\n",
    "scorer = make_scorer(mean_squared_error, greater_is_better=False)"
   ]
  },
  {
   "cell_type": "code",
   "execution_count": 19,
   "metadata": {},
   "outputs": [],
   "source": [
    "# подготовим разделитель для выборок по времени при кросс-валидации\n",
    "tscv = TimeSeriesSplit(n_splits=5)"
   ]
  },
  {
   "cell_type": "markdown",
   "metadata": {},
   "source": [
    "####  Линейная регрессия"
   ]
  },
  {
   "cell_type": "code",
   "execution_count": 20,
   "metadata": {
    "scrolled": true
   },
   "outputs": [
    {
     "name": "stdout",
     "output_type": "stream",
     "text": [
      "RMSE линейной регрессии: 47.7\n"
     ]
    }
   ],
   "source": [
    "model_lr = LinearRegression()\n",
    "model_lr.fit(features_train, target_train) \n",
    "pred_lr = model_lr.predict(features_valid)\n",
    "rmse = mean_squared_error(target_valid, pred_lr)**0.5\n",
    "\n",
    "print('RMSE линейной регрессии:', rmse.round(1))"
   ]
  },
  {
   "cell_type": "markdown",
   "metadata": {},
   "source": [
    "####  Случайный лес деревьев"
   ]
  },
  {
   "cell_type": "code",
   "execution_count": 22,
   "metadata": {},
   "outputs": [
    {
     "data": {
      "text/plain": [
       "{'max_depth': 11, 'n_estimators': 24}"
      ]
     },
     "execution_count": 22,
     "metadata": {},
     "output_type": "execute_result"
    }
   ],
   "source": [
    "# подберем параметры для леса через GridSearchCV\n",
    "model_rf = RandomForestRegressor()\n",
    "param_grid = {'max_depth' : range(1,31),\n",
    "              'n_estimators' : range(1,26)} \n",
    "grid = GridSearchCV(estimator=model_rf, param_grid=param_grid, scoring=scorer, cv=tscv)\n",
    "grid.fit(features_train, target_train)\n",
    "best_params = grid.best_params_\n",
    "best_params"
   ]
  },
  {
   "cell_type": "code",
   "execution_count": 24,
   "metadata": {},
   "outputs": [
    {
     "name": "stdout",
     "output_type": "stream",
     "text": [
      "RMSE случайного леса: 49.3\n"
     ]
    }
   ],
   "source": [
    "pred_rf = grid.predict(features_valid)\n",
    "rmse = mean_squared_error(target_valid, pred_rf)**0.5\n",
    "\n",
    "print('RMSE случайного леса:', rmse.round(1))"
   ]
  },
  {
   "cell_type": "markdown",
   "metadata": {},
   "source": [
    "#### CatBoost"
   ]
  },
  {
   "cell_type": "code",
   "execution_count": 26,
   "metadata": {},
   "outputs": [
    {
     "data": {
      "text/plain": [
       "{'depth': 5, 'iterations': 650, 'learning_rate': 0.03}"
      ]
     },
     "execution_count": 26,
     "metadata": {},
     "output_type": "execute_result"
    }
   ],
   "source": [
    "# подберем параметры для CatBoost через GridSearchCV\n",
    "cat = CatBoostRegressor()\n",
    "params = {'iterations': range(200, 700, 50),\n",
    "          'depth': range(1, 11),\n",
    "          'learning_rate': [0.01, 0.03, 0.01]}\n",
    "\n",
    "cat_grid = GridSearchCV(estimator=cat, param_grid=params, scoring=scorer, cv=tscv)\n",
    "cat_grid.fit(features_train, target_train, verbose=0)\n",
    "best_param = cat_grid.best_params_\n",
    "best_param"
   ]
  },
  {
   "cell_type": "code",
   "execution_count": 27,
   "metadata": {},
   "outputs": [
    {
     "name": "stdout",
     "output_type": "stream",
     "text": [
      "RMSE CatBoost: 49.0\n"
     ]
    }
   ],
   "source": [
    "pred_cb = cat_grid.predict(features_valid)\n",
    "rmse = mean_squared_error(target_valid, pred_cb)**0.5\n",
    "\n",
    "print('RMSE CatBoost:', rmse.round(1))"
   ]
  },
  {
   "cell_type": "markdown",
   "metadata": {},
   "source": [
    "#### LightGBM"
   ]
  },
  {
   "cell_type": "code",
   "execution_count": 28,
   "metadata": {},
   "outputs": [
    {
     "data": {
      "text/plain": [
       "{'max_depth': 4, 'n_estimators': 100, 'num_threads': 1, 'verbose': -1}"
      ]
     },
     "execution_count": 28,
     "metadata": {},
     "output_type": "execute_result"
    }
   ],
   "source": [
    "# подберем параметры для LightGBM через GridSearchCV\n",
    "light = LGBMRegressor()\n",
    "param_grid = {'n_estimators': range(100, 400, 50), \n",
    "              'max_depth': range(1,11),\n",
    "              'verbose': [-1],\n",
    "             'num_threads':[1]}\n",
    "\n",
    "light_grid = GridSearchCV(light, param_grid, scoring=scorer, cv=tscv)\n",
    "\n",
    "light_grid.fit(features_train, target_train)\n",
    "best_param = light_grid.best_params_\n",
    "best_param"
   ]
  },
  {
   "cell_type": "code",
   "execution_count": 29,
   "metadata": {},
   "outputs": [
    {
     "name": "stdout",
     "output_type": "stream",
     "text": [
      "RMSE LightGBM: 49.0\n"
     ]
    }
   ],
   "source": [
    "pred_l = cat_grid.predict(features_valid)\n",
    "rmse = mean_squared_error(target_valid, pred_l)**0.5\n",
    "\n",
    "print('RMSE LightGBM:', rmse.round(1))"
   ]
  },
  {
   "cell_type": "markdown",
   "metadata": {},
   "source": [
    "**Выводы**\n",
    "\n",
    "В данном разделе было произведено разделение общей выборки на обучающую, валидационную и тестовую. Для решения задачи регрессии обучены 4 модели. Две с градиентым бустингом: LightGBM и CatBoost. Две обычные: случайный лес деревьев и линейная регрессия. \n",
    "\n",
    "Наименьшее значение метрики RMSE у линейной регрессии: 47.7. На втором месте две модели CatBoost и LightGBM - с показателями RMSE 49.0. Наибольшее значение RMSE у случайного леса - 49.3."
   ]
  },
  {
   "cell_type": "markdown",
   "metadata": {},
   "source": [
    "## Тестирование"
   ]
  },
  {
   "cell_type": "markdown",
   "metadata": {},
   "source": [
    "Так как наименьшее значение метрики RMSE у линейной регрессии, выберем данную модель. Проверим ее на тестовой выборке:"
   ]
  },
  {
   "cell_type": "code",
   "execution_count": 31,
   "metadata": {},
   "outputs": [
    {
     "name": "stdout",
     "output_type": "stream",
     "text": [
      "RMSE лучшей модели: 34.8\n"
     ]
    }
   ],
   "source": [
    "model_best = LinearRegression()\n",
    "model_best.fit(features_train, target_train) \n",
    "pred_test = model_best.predict(features_test)\n",
    "rmse = mean_squared_error(target_test, pred_test)**0.5\n",
    "\n",
    "print('RMSE лучшей модели:', rmse.round(1))"
   ]
  },
  {
   "cell_type": "code",
   "execution_count": null,
   "metadata": {},
   "outputs": [],
   "source": [
    "#дообучим выбранную модель на тренировочной+валидационной выборке для улучшения результата и проверим ее показатели на тестовой\n",
    "#train_valid = pd.concat([valid, train])\n",
    "#features_train_valid = train_valid.drop(['num_orders'], axis=1)\n",
    "#target_train_valid = train_valid['num_orders']\n",
    "\n",
    "#model_best_d = LinearRegression()\n",
    "#model_best_d.fit(features_train, target_train) \n",
    "#pred = model_best_d.predict(features_test)\n",
    "#rmse = mean_squared_error(target_test, pred)**0.5\n",
    "\n",
    "#print('RMSE лучшей дообученной модели:', rmse.round(1))\n",
    "\n",
    "# в результате RMSE неизменилась, так что я закомментировала эту часть"
   ]
  },
  {
   "cell_type": "code",
   "execution_count": 33,
   "metadata": {},
   "outputs": [
    {
     "name": "stdout",
     "output_type": "stream",
     "text": [
      "RMSE модели-болванки: 105.3\n"
     ]
    }
   ],
   "source": [
    "# проверим модель на адекватность, сравнив с константной моделью\n",
    "dummy_model = DummyClassifier(strategy='constant', constant=1)\n",
    "dummy_model.fit(features_train, target_train)\n",
    "rmse = mean_squared_error(target_test, dummy_model.predict(features_test))**0.5\n",
    "\n",
    "print('RMSE модели-болванки:', rmse.round(1))"
   ]
  },
  {
   "cell_type": "code",
   "execution_count": 42,
   "metadata": {},
   "outputs": [],
   "source": [
    "#визуализируем сравнение результатов модели\n",
    "#pd.DataFrame(np.array([model_lr.predict(features_valid), target_valid]).T, \n",
    "#        columns=['model', 'fact'], index=target_valid.index).plot(figsize=(9,4),\n",
    "#                                                                  title = 'Preds vs FactTest',\n",
    "#                                                                  ylabel = 'Num_Orders',\n",
    "#                                                                  xlabel = 'Date');"
   ]
  },
  {
   "cell_type": "code",
   "execution_count": 41,
   "metadata": {},
   "outputs": [
    {
     "data": {
      "image/png": "[encoded data removed]",
      "text/plain": [
       "<Figure size 640x480 with 1 Axes>"
      ]
     },
     "metadata": {},
     "output_type": "display_data"
    },
    {
     "data": {
      "image/png": "[encoded data removed]",
      "text/plain": [
       "<Figure size 640x480 with 1 Axes>"
      ]
     },
     "metadata": {},
     "output_type": "display_data"
    }
   ],
   "source": [
    "values = list(range(len(target_valid)))\n",
    "\n",
    "plt.plot(values, pred_lr, label='Предсказания на валидационной')\n",
    "plt.plot(values, target_valid, label='Данные валинационной')\n",
    "plt.title('График сравнения предсказания линейной регрессии на валидационной выборке и исходных данных в зависимости от даты')\n",
    "plt.ylabel('RMSE')\n",
    "plt.xlabel('День')\n",
    "plt.legend()\n",
    "plt.show()\n",
    "\n",
    "values = list(range(len(target_test)))\n",
    "\n",
    "plt.plot(values, pred_test, label='Предсказания на тестовой')\n",
    "plt.plot(values, target_test, label='Данные тестовой')\n",
    "plt.title('График сравнения предсказания линейной регрессии на тестовой выборке и исходных данных в зависимости от даты')\n",
    "plt.ylabel('RMSE')\n",
    "plt.xlabel('День')\n",
    "plt.legend()\n",
    "plt.show()"
   ]
  },
  {
   "cell_type": "markdown",
   "metadata": {},
   "source": [
    "## Общий вывод"
   ]
  },
  {
   "cell_type": "markdown",
   "metadata": {},
   "source": [
    "В исходной таблице данные со временем и количеством заказов такси. Таблица содержит 26496 строк и 2 столбца. Явных дубликатов и пропусков нет, столбцы названы в соответсвии с хорошим стилем. Данные осортированы в хорологическом порядке.\n",
    "\n",
    "Было произведено объединение данных по времени с интервалом в один час. После объединения в таблице стало 4416 строк. В среднем за один час совершается около 84 заказов такси, однако бывает и ни одного заказа, а бывает 462.\n",
    "\n",
    "В результате анализа динамики изменений количества заказов был выявлен несезонный тренд на рост количества вызываемых такси. Вероятно, у заказов есть сезонность, но для такого заключения недостаточно данных (необходимо собрать их за несколько лет). Данные поддаются описанию стационарным стохаическим процессом, по ним можно делать прогнозы.\n",
    "\n",
    "В данном разделе было произведено разделение общей выборки на обучающую, валидационную и тестовую. Для решения задачи регрессии обучены 4 модели. Две с градиентым бустингом: LightGBM и CatBoost. Две обычные: случайный лес деревьев и линейная регрессия. \n",
    "\n",
    "Наименьшее значение метрики RMSE у линейной регрессии: 47.7. На втором месте две модели CatBoost и LightGBM - с показателями RMSE 49.0. Наибольшее значение RMSE у случайного леса - 49.3.\n",
    "\n",
    "Наилучшей моделью стала линейная регрессия. При проверке на тестовой выборке она показала отличный результат - RMSE 34.8. Также она прошла проверку на адекватность, модель-болванка показала RMSE в 3 раза выше. Данная модель отлично подходит для прогноза количества заказов такси на следующий час."
   ]
  }
 ],
 "metadata": {
  "ExecuteTimeLog": [
   {
    "duration": 50,
    "start_time": "2023-06-06T13:21:14.002Z"
   },
   {
    "duration": 1299,
    "start_time": "2023-06-06T13:21:15.990Z"
   },
   {
    "duration": 102,
    "start_time": "2023-06-06T13:21:17.291Z"
   },
   {
    "duration": 116,
    "start_time": "2023-06-06T13:22:29.093Z"
   },
   {
    "duration": 47,
    "start_time": "2023-06-06T13:22:36.555Z"
   },
   {
    "duration": 106,
    "start_time": "2023-06-06T13:24:32.045Z"
   },
   {
    "duration": 48,
    "start_time": "2023-06-06T13:24:42.593Z"
   },
   {
    "duration": 3,
    "start_time": "2023-06-06T13:25:25.188Z"
   },
   {
    "duration": 8,
    "start_time": "2023-06-06T13:26:51.441Z"
   },
   {
    "duration": 9,
    "start_time": "2023-06-06T13:26:59.518Z"
   },
   {
    "duration": 6,
    "start_time": "2023-06-06T13:27:06.839Z"
   },
   {
    "duration": 567,
    "start_time": "2023-06-07T13:00:15.036Z"
   },
   {
    "duration": 194,
    "start_time": "2023-06-07T13:00:17.038Z"
   },
   {
    "duration": 48,
    "start_time": "2023-06-07T13:01:31.904Z"
   },
   {
    "duration": 9,
    "start_time": "2023-06-07T13:01:33.498Z"
   },
   {
    "duration": 15,
    "start_time": "2023-06-07T13:01:36.332Z"
   },
   {
    "duration": 16,
    "start_time": "2023-06-07T13:04:13.351Z"
   },
   {
    "duration": 16,
    "start_time": "2023-06-07T13:06:21.699Z"
   },
   {
    "duration": 20,
    "start_time": "2023-06-07T13:06:35.347Z"
   },
   {
    "duration": 10,
    "start_time": "2023-06-07T13:08:35.724Z"
   },
   {
    "duration": 8,
    "start_time": "2023-06-07T13:13:25.027Z"
   },
   {
    "duration": 9,
    "start_time": "2023-06-07T13:14:44.803Z"
   },
   {
    "duration": 112,
    "start_time": "2023-06-07T13:15:42.094Z"
   },
   {
    "duration": 14,
    "start_time": "2023-06-07T13:17:10.030Z"
   },
   {
    "duration": 18,
    "start_time": "2023-06-07T13:17:58.397Z"
   },
   {
    "duration": 8,
    "start_time": "2023-06-07T13:18:06.610Z"
   },
   {
    "duration": 48,
    "start_time": "2023-06-07T13:18:43.257Z"
   },
   {
    "duration": 32,
    "start_time": "2023-06-07T13:19:03.159Z"
   },
   {
    "duration": 56,
    "start_time": "2023-06-07T13:25:36.081Z"
   },
   {
    "duration": 3,
    "start_time": "2023-06-07T13:25:40.678Z"
   },
   {
    "duration": 56,
    "start_time": "2023-06-07T13:25:40.684Z"
   },
   {
    "duration": 21,
    "start_time": "2023-06-07T13:25:40.742Z"
   },
   {
    "duration": 29,
    "start_time": "2023-06-07T13:25:40.769Z"
   },
   {
    "duration": 4,
    "start_time": "2023-06-07T13:25:40.800Z"
   },
   {
    "duration": 15,
    "start_time": "2023-06-07T13:25:40.806Z"
   },
   {
    "duration": 25,
    "start_time": "2023-06-07T13:25:40.823Z"
   },
   {
    "duration": 31,
    "start_time": "2023-06-07T13:25:40.850Z"
   },
   {
    "duration": 27,
    "start_time": "2023-06-07T13:25:40.882Z"
   },
   {
    "duration": 764,
    "start_time": "2023-06-07T13:32:57.252Z"
   },
   {
    "duration": 56,
    "start_time": "2023-06-07T13:56:44.528Z"
   },
   {
    "duration": 8,
    "start_time": "2023-06-07T13:56:50.325Z"
   },
   {
    "duration": 8,
    "start_time": "2023-06-07T13:57:41.647Z"
   },
   {
    "duration": 9,
    "start_time": "2023-06-07T13:58:27.473Z"
   },
   {
    "duration": 8,
    "start_time": "2023-06-07T13:58:50.791Z"
   },
   {
    "duration": 7,
    "start_time": "2023-06-07T13:59:01.009Z"
   },
   {
    "duration": 8,
    "start_time": "2023-06-07T13:59:31.120Z"
   },
   {
    "duration": 7,
    "start_time": "2023-06-07T14:01:08.159Z"
   },
   {
    "duration": 572,
    "start_time": "2023-06-07T14:02:19.311Z"
   },
   {
    "duration": 66,
    "start_time": "2023-06-07T14:03:41.139Z"
   },
   {
    "duration": 232,
    "start_time": "2023-06-07T14:04:21.197Z"
   },
   {
    "duration": 281,
    "start_time": "2023-06-07T14:06:24.294Z"
   },
   {
    "duration": 242,
    "start_time": "2023-06-07T14:06:37.738Z"
   },
   {
    "duration": 37,
    "start_time": "2023-06-07T14:07:27.830Z"
   },
   {
    "duration": 157,
    "start_time": "2023-06-07T14:07:37.000Z"
   },
   {
    "duration": 181,
    "start_time": "2023-06-07T14:08:01.320Z"
   },
   {
    "duration": 112,
    "start_time": "2023-06-07T14:11:29.958Z"
   },
   {
    "duration": 3,
    "start_time": "2023-06-07T14:12:42.259Z"
   },
   {
    "duration": 79,
    "start_time": "2023-06-07T14:15:06.984Z"
   },
   {
    "duration": 6,
    "start_time": "2023-06-07T14:26:03.860Z"
   },
   {
    "duration": 4,
    "start_time": "2023-06-07T14:26:47.693Z"
   },
   {
    "duration": 72,
    "start_time": "2023-06-07T14:27:22.459Z"
   },
   {
    "duration": 4,
    "start_time": "2023-06-07T14:27:32.480Z"
   },
   {
    "duration": 90,
    "start_time": "2023-06-07T14:27:32.487Z"
   },
   {
    "duration": 14,
    "start_time": "2023-06-07T14:27:32.579Z"
   },
   {
    "duration": 30,
    "start_time": "2023-06-07T14:27:32.594Z"
   },
   {
    "duration": 5,
    "start_time": "2023-06-07T14:27:32.626Z"
   },
   {
    "duration": 21,
    "start_time": "2023-06-07T14:27:32.658Z"
   },
   {
    "duration": 17,
    "start_time": "2023-06-07T14:27:32.681Z"
   },
   {
    "duration": 27,
    "start_time": "2023-06-07T14:27:32.700Z"
   },
   {
    "duration": 184,
    "start_time": "2023-06-07T14:27:32.729Z"
   },
   {
    "duration": 3,
    "start_time": "2023-06-07T14:27:32.915Z"
   },
   {
    "duration": 19,
    "start_time": "2023-06-07T14:27:32.920Z"
   },
   {
    "duration": 29,
    "start_time": "2023-06-07T14:27:32.941Z"
   },
   {
    "duration": 9,
    "start_time": "2023-06-07T14:27:32.972Z"
   },
   {
    "duration": 4,
    "start_time": "2023-06-07T14:27:32.984Z"
   },
   {
    "duration": 24,
    "start_time": "2023-06-07T14:27:32.990Z"
   },
   {
    "duration": 7,
    "start_time": "2023-06-07T14:28:33.848Z"
   },
   {
    "duration": 7,
    "start_time": "2023-06-07T14:28:47.610Z"
   },
   {
    "duration": 9,
    "start_time": "2023-06-07T14:29:35.605Z"
   },
   {
    "duration": 6,
    "start_time": "2023-06-07T14:30:58.025Z"
   },
   {
    "duration": 32,
    "start_time": "2023-06-07T14:31:05.234Z"
   },
   {
    "duration": 5,
    "start_time": "2023-06-07T14:31:10.788Z"
   },
   {
    "duration": 60,
    "start_time": "2023-06-07T14:31:10.796Z"
   },
   {
    "duration": 25,
    "start_time": "2023-06-07T14:31:10.859Z"
   },
   {
    "duration": 40,
    "start_time": "2023-06-07T14:31:10.887Z"
   },
   {
    "duration": 5,
    "start_time": "2023-06-07T14:31:10.928Z"
   },
   {
    "duration": 32,
    "start_time": "2023-06-07T14:31:10.935Z"
   },
   {
    "duration": 13,
    "start_time": "2023-06-07T14:31:10.969Z"
   },
   {
    "duration": 10,
    "start_time": "2023-06-07T14:31:10.984Z"
   },
   {
    "duration": 249,
    "start_time": "2023-06-07T14:31:10.999Z"
   },
   {
    "duration": 6,
    "start_time": "2023-06-07T14:31:11.251Z"
   },
   {
    "duration": 26,
    "start_time": "2023-06-07T14:31:11.259Z"
   },
   {
    "duration": 10,
    "start_time": "2023-06-07T14:31:11.287Z"
   },
   {
    "duration": 24,
    "start_time": "2023-06-07T14:31:11.299Z"
   },
   {
    "duration": 15,
    "start_time": "2023-06-07T14:31:11.325Z"
   },
   {
    "duration": 6,
    "start_time": "2023-06-07T14:31:11.342Z"
   },
   {
    "duration": 145,
    "start_time": "2023-06-07T14:31:11.350Z"
   },
   {
    "duration": 19,
    "start_time": "2023-06-07T14:31:26.218Z"
   },
   {
    "duration": 15,
    "start_time": "2023-06-07T14:31:32.785Z"
   },
   {
    "duration": 14,
    "start_time": "2023-06-07T14:35:28.214Z"
   },
   {
    "duration": 23521,
    "start_time": "2023-06-07T14:35:37.046Z"
   },
   {
    "duration": 42,
    "start_time": "2023-06-07T14:36:02.780Z"
   },
   {
    "duration": 23429,
    "start_time": "2023-06-07T14:36:16.584Z"
   },
   {
    "duration": 23341,
    "start_time": "2023-06-07T14:38:13.402Z"
   },
   {
    "duration": 12,
    "start_time": "2023-06-07T14:39:17.927Z"
   },
   {
    "duration": 529,
    "start_time": "2023-06-07T14:39:25.908Z"
   },
   {
    "duration": 527,
    "start_time": "2023-06-07T14:39:30.548Z"
   },
   {
    "duration": 1483,
    "start_time": "2023-06-07T14:47:28.400Z"
   },
   {
    "duration": 56,
    "start_time": "2023-06-07T14:47:29.885Z"
   },
   {
    "duration": 14,
    "start_time": "2023-06-07T14:47:29.943Z"
   },
   {
    "duration": 25,
    "start_time": "2023-06-07T14:47:29.959Z"
   },
   {
    "duration": 4,
    "start_time": "2023-06-07T14:47:29.986Z"
   },
   {
    "duration": 47,
    "start_time": "2023-06-07T14:47:29.992Z"
   },
   {
    "duration": 55,
    "start_time": "2023-06-07T14:47:30.041Z"
   },
   {
    "duration": 56,
    "start_time": "2023-06-07T14:47:30.098Z"
   },
   {
    "duration": 226,
    "start_time": "2023-06-07T14:47:30.157Z"
   },
   {
    "duration": 5,
    "start_time": "2023-06-07T14:47:30.387Z"
   },
   {
    "duration": 54,
    "start_time": "2023-06-07T14:47:30.394Z"
   },
   {
    "duration": 33,
    "start_time": "2023-06-07T14:47:30.450Z"
   },
   {
    "duration": 55,
    "start_time": "2023-06-07T14:47:30.485Z"
   },
   {
    "duration": 74,
    "start_time": "2023-06-07T14:47:30.542Z"
   },
   {
    "duration": 69,
    "start_time": "2023-06-07T14:47:30.618Z"
   },
   {
    "duration": 59,
    "start_time": "2023-06-07T14:47:30.689Z"
   },
   {
    "duration": 108,
    "start_time": "2023-06-07T14:47:30.750Z"
   },
   {
    "duration": 757942,
    "start_time": "2023-06-07T14:47:30.859Z"
   },
   {
    "duration": 0,
    "start_time": "2023-06-07T15:00:08.804Z"
   },
   {
    "duration": 0,
    "start_time": "2023-06-07T15:00:08.806Z"
   },
   {
    "duration": 0,
    "start_time": "2023-06-07T15:00:08.807Z"
   },
   {
    "duration": 0,
    "start_time": "2023-06-07T15:00:08.808Z"
   },
   {
    "duration": 0,
    "start_time": "2023-06-07T15:00:08.809Z"
   },
   {
    "duration": 2970339,
    "start_time": "2023-06-07T15:00:14.571Z"
   },
   {
    "duration": 1047,
    "start_time": "2023-06-07T15:49:44.912Z"
   },
   {
    "duration": 19,
    "start_time": "2023-06-07T15:49:45.963Z"
   },
   {
    "duration": 0,
    "start_time": "2023-06-07T15:49:45.985Z"
   },
   {
    "duration": 0,
    "start_time": "2023-06-07T15:49:45.987Z"
   },
   {
    "duration": 0,
    "start_time": "2023-06-07T15:49:45.988Z"
   },
   {
    "duration": 1516802,
    "start_time": "2023-06-07T15:50:16.182Z"
   },
   {
    "duration": 23,
    "start_time": "2023-06-07T16:15:32.986Z"
   },
   {
    "duration": 0,
    "start_time": "2023-06-07T16:15:33.010Z"
   },
   {
    "duration": 0,
    "start_time": "2023-06-07T16:15:33.012Z"
   },
   {
    "duration": 11793,
    "start_time": "2023-06-07T16:17:34.212Z"
   },
   {
    "duration": 987338,
    "start_time": "2023-06-07T16:19:08.754Z"
   },
   {
    "duration": 0,
    "start_time": "2023-06-07T16:35:36.094Z"
   },
   {
    "duration": 0,
    "start_time": "2023-06-07T17:26:45.512Z"
   },
   {
    "duration": 1618,
    "start_time": "2023-06-07T17:28:20.525Z"
   },
   {
    "duration": 76,
    "start_time": "2023-06-07T17:28:22.145Z"
   },
   {
    "duration": 16,
    "start_time": "2023-06-07T17:28:22.223Z"
   },
   {
    "duration": 39,
    "start_time": "2023-06-07T17:28:22.241Z"
   },
   {
    "duration": 3,
    "start_time": "2023-06-07T17:28:22.283Z"
   },
   {
    "duration": 12,
    "start_time": "2023-06-07T17:28:22.288Z"
   },
   {
    "duration": 21,
    "start_time": "2023-06-07T17:28:22.304Z"
   },
   {
    "duration": 12,
    "start_time": "2023-06-07T17:28:22.328Z"
   },
   {
    "duration": 243,
    "start_time": "2023-06-07T17:28:22.356Z"
   },
   {
    "duration": 604,
    "start_time": "2023-06-07T17:28:22.602Z"
   },
   {
    "duration": 6,
    "start_time": "2023-06-07T17:28:23.208Z"
   },
   {
    "duration": 19,
    "start_time": "2023-06-07T17:28:23.216Z"
   },
   {
    "duration": 36,
    "start_time": "2023-06-07T17:28:23.237Z"
   },
   {
    "duration": 11,
    "start_time": "2023-06-07T17:28:23.285Z"
   },
   {
    "duration": 9,
    "start_time": "2023-06-07T17:28:23.300Z"
   },
   {
    "duration": 15,
    "start_time": "2023-06-07T17:28:23.310Z"
   },
   {
    "duration": 6,
    "start_time": "2023-06-07T17:28:23.327Z"
   },
   {
    "duration": 29,
    "start_time": "2023-06-07T17:28:23.336Z"
   },
   {
    "duration": 46817,
    "start_time": "2023-06-07T17:28:23.367Z"
   },
   {
    "duration": 0,
    "start_time": "2023-06-07T17:29:10.189Z"
   },
   {
    "duration": 0,
    "start_time": "2023-06-07T17:29:10.190Z"
   },
   {
    "duration": 0,
    "start_time": "2023-06-07T17:29:10.195Z"
   },
   {
    "duration": 0,
    "start_time": "2023-06-07T17:29:10.199Z"
   },
   {
    "duration": 0,
    "start_time": "2023-06-07T17:29:10.203Z"
   },
   {
    "duration": 816,
    "start_time": "2023-06-07T17:29:27.625Z"
   },
   {
    "duration": 587,
    "start_time": "2023-06-07T17:29:41.818Z"
   },
   {
    "duration": 14,
    "start_time": "2023-06-07T17:30:09.413Z"
   },
   {
    "duration": 4,
    "start_time": "2023-06-07T17:30:21.480Z"
   },
   {
    "duration": 58,
    "start_time": "2023-06-07T17:30:21.487Z"
   },
   {
    "duration": 24,
    "start_time": "2023-06-07T17:30:21.547Z"
   },
   {
    "duration": 36,
    "start_time": "2023-06-07T17:30:21.573Z"
   },
   {
    "duration": 5,
    "start_time": "2023-06-07T17:30:21.613Z"
   },
   {
    "duration": 20,
    "start_time": "2023-06-07T17:30:21.620Z"
   },
   {
    "duration": 20,
    "start_time": "2023-06-07T17:30:21.643Z"
   },
   {
    "duration": 26,
    "start_time": "2023-06-07T17:30:21.674Z"
   },
   {
    "duration": 184,
    "start_time": "2023-06-07T17:30:21.702Z"
   },
   {
    "duration": 174,
    "start_time": "2023-06-07T17:30:24.290Z"
   },
   {
    "duration": 749,
    "start_time": "2023-06-07T17:30:26.086Z"
   },
   {
    "duration": 591,
    "start_time": "2023-06-07T17:36:07.136Z"
   },
   {
    "duration": 587,
    "start_time": "2023-06-07T17:36:12.944Z"
   },
   {
    "duration": 542,
    "start_time": "2023-06-07T17:36:17.844Z"
   },
   {
    "duration": 593,
    "start_time": "2023-06-07T17:36:37.183Z"
   },
   {
    "duration": 330,
    "start_time": "2023-06-07T17:45:48.880Z"
   },
   {
    "duration": 302,
    "start_time": "2023-06-07T17:46:25.193Z"
   },
   {
    "duration": 253,
    "start_time": "2023-06-07T17:46:33.296Z"
   },
   {
    "duration": 394,
    "start_time": "2023-06-07T17:46:41.872Z"
   },
   {
    "duration": 235,
    "start_time": "2023-06-07T17:47:03.175Z"
   },
   {
    "duration": 171,
    "start_time": "2023-06-07T17:48:05.906Z"
   },
   {
    "duration": 157,
    "start_time": "2023-06-07T17:48:16.525Z"
   },
   {
    "duration": 163,
    "start_time": "2023-06-07T17:48:39.706Z"
   },
   {
    "duration": 469814,
    "start_time": "2023-06-07T17:49:20.182Z"
   },
   {
    "duration": 0,
    "start_time": "2023-06-07T17:57:09.999Z"
   },
   {
    "duration": 0,
    "start_time": "2023-06-07T17:57:10.001Z"
   },
   {
    "duration": 0,
    "start_time": "2023-06-07T17:57:10.002Z"
   },
   {
    "duration": 659601,
    "start_time": "2023-06-07T17:57:19.582Z"
   },
   {
    "duration": 0,
    "start_time": "2023-06-07T18:08:19.189Z"
   },
   {
    "duration": 14577,
    "start_time": "2023-06-07T18:08:25.795Z"
   },
   {
    "duration": 1281,
    "start_time": "2023-06-07T18:08:40.381Z"
   },
   {
    "duration": 31,
    "start_time": "2023-06-07T18:08:41.664Z"
   },
   {
    "duration": 19,
    "start_time": "2023-06-07T18:08:42.246Z"
   },
   {
    "duration": 11,
    "start_time": "2023-06-07T18:08:43.112Z"
   },
   {
    "duration": 14,
    "start_time": "2023-06-07T18:08:44.509Z"
   },
   {
    "duration": 7,
    "start_time": "2023-06-07T18:08:48.890Z"
   },
   {
    "duration": 7,
    "start_time": "2023-06-07T18:08:49.226Z"
   },
   {
    "duration": 75,
    "start_time": "2023-06-07T18:08:52.090Z"
   },
   {
    "duration": 1449,
    "start_time": "2023-06-07T18:08:58.513Z"
   },
   {
    "duration": 15342,
    "start_time": "2023-06-07T18:09:09.645Z"
   },
   {
    "duration": 7,
    "start_time": "2023-06-07T18:09:41.026Z"
   },
   {
    "duration": 10,
    "start_time": "2023-06-07T18:09:41.634Z"
   },
   {
    "duration": 15,
    "start_time": "2023-06-07T18:09:41.981Z"
   },
   {
    "duration": 9,
    "start_time": "2023-06-07T18:09:42.293Z"
   },
   {
    "duration": 4,
    "start_time": "2023-06-07T18:09:42.848Z"
   },
   {
    "duration": 4,
    "start_time": "2023-06-07T18:09:43.325Z"
   },
   {
    "duration": 15,
    "start_time": "2023-06-07T18:09:44.101Z"
   },
   {
    "duration": 1247,
    "start_time": "2023-06-07T18:09:49.178Z"
   },
   {
    "duration": 12,
    "start_time": "2023-06-07T18:10:01.125Z"
   },
   {
    "duration": 12,
    "start_time": "2023-06-07T18:10:03.516Z"
   },
   {
    "duration": 8,
    "start_time": "2023-06-07T18:10:03.889Z"
   },
   {
    "duration": 10,
    "start_time": "2023-06-07T18:10:04.287Z"
   },
   {
    "duration": 3,
    "start_time": "2023-06-07T18:10:05.089Z"
   },
   {
    "duration": 10,
    "start_time": "2023-06-07T18:10:05.480Z"
   },
   {
    "duration": 201,
    "start_time": "2023-06-07T18:10:08.293Z"
   },
   {
    "duration": 19,
    "start_time": "2023-06-07T18:10:19.366Z"
   },
   {
    "duration": 203,
    "start_time": "2023-06-07T18:10:22.775Z"
   },
   {
    "duration": 11,
    "start_time": "2023-06-07T18:10:25.989Z"
   },
   {
    "duration": 9,
    "start_time": "2023-06-07T18:10:26.306Z"
   },
   {
    "duration": 8,
    "start_time": "2023-06-07T18:10:28.744Z"
   },
   {
    "duration": 3,
    "start_time": "2023-06-07T18:10:30.897Z"
   },
   {
    "duration": 5,
    "start_time": "2023-06-07T18:10:31.485Z"
   },
   {
    "duration": 179,
    "start_time": "2023-06-07T18:10:33.999Z"
   },
   {
    "duration": 18,
    "start_time": "2023-06-07T18:10:39.186Z"
   },
   {
    "duration": 13,
    "start_time": "2023-06-07T18:10:40.225Z"
   },
   {
    "duration": 8,
    "start_time": "2023-06-07T18:10:40.645Z"
   },
   {
    "duration": 8,
    "start_time": "2023-06-07T18:10:41.126Z"
   },
   {
    "duration": 162,
    "start_time": "2023-06-07T18:10:44.702Z"
   },
   {
    "duration": 11,
    "start_time": "2023-06-07T18:10:50.512Z"
   },
   {
    "duration": 12,
    "start_time": "2023-06-07T18:10:51.726Z"
   },
   {
    "duration": 16,
    "start_time": "2023-06-07T18:10:52.177Z"
   },
   {
    "duration": 10,
    "start_time": "2023-06-07T18:10:52.626Z"
   },
   {
    "duration": 96,
    "start_time": "2023-06-07T18:10:54.794Z"
   },
   {
    "duration": 4,
    "start_time": "2023-06-07T18:11:04.016Z"
   },
   {
    "duration": 219,
    "start_time": "2023-06-07T18:11:04.022Z"
   },
   {
    "duration": 25,
    "start_time": "2023-06-07T18:11:04.246Z"
   },
   {
    "duration": 50,
    "start_time": "2023-06-07T18:11:04.272Z"
   },
   {
    "duration": 6,
    "start_time": "2023-06-07T18:11:04.325Z"
   },
   {
    "duration": 12,
    "start_time": "2023-06-07T18:11:04.333Z"
   },
   {
    "duration": 19,
    "start_time": "2023-06-07T18:11:04.346Z"
   },
   {
    "duration": 9,
    "start_time": "2023-06-07T18:11:04.368Z"
   },
   {
    "duration": 292,
    "start_time": "2023-06-07T18:11:04.379Z"
   },
   {
    "duration": 647,
    "start_time": "2023-06-07T18:11:04.676Z"
   },
   {
    "duration": 370,
    "start_time": "2023-06-07T18:11:05.325Z"
   },
   {
    "duration": 207,
    "start_time": "2023-06-07T18:11:05.699Z"
   },
   {
    "duration": 5,
    "start_time": "2023-06-07T18:11:05.908Z"
   },
   {
    "duration": 23,
    "start_time": "2023-06-07T18:11:05.917Z"
   },
   {
    "duration": 37,
    "start_time": "2023-06-07T18:11:05.942Z"
   },
   {
    "duration": 28,
    "start_time": "2023-06-07T18:11:05.982Z"
   },
   {
    "duration": 11,
    "start_time": "2023-06-07T18:11:06.012Z"
   },
   {
    "duration": 67,
    "start_time": "2023-06-07T18:11:06.025Z"
   },
   {
    "duration": 6,
    "start_time": "2023-06-07T18:11:06.095Z"
   },
   {
    "duration": 164,
    "start_time": "2023-06-07T18:11:06.497Z"
   },
   {
    "duration": 15,
    "start_time": "2023-06-07T18:11:12.798Z"
   },
   {
    "duration": 16,
    "start_time": "2023-06-07T18:11:14.076Z"
   },
   {
    "duration": 18,
    "start_time": "2023-06-07T18:11:15.969Z"
   },
   {
    "duration": 10,
    "start_time": "2023-06-07T18:11:16.424Z"
   },
   {
    "duration": 64,
    "start_time": "2023-06-07T18:11:18.524Z"
   },
   {
    "duration": 884,
    "start_time": "2023-06-07T18:11:35.091Z"
   },
   {
    "duration": 85,
    "start_time": "2023-06-07T18:11:36.545Z"
   },
   {
    "duration": 35,
    "start_time": "2023-06-07T18:11:37.285Z"
   },
   {
    "duration": 18,
    "start_time": "2023-06-07T18:11:38.136Z"
   },
   {
    "duration": 4,
    "start_time": "2023-06-07T18:11:39.318Z"
   },
   {
    "duration": 4,
    "start_time": "2023-06-07T18:11:39.718Z"
   },
   {
    "duration": 57662,
    "start_time": "2023-06-07T18:11:40.897Z"
   },
   {
    "duration": 8,
    "start_time": "2023-06-07T18:13:03.783Z"
   },
   {
    "duration": 59,
    "start_time": "2023-06-07T18:13:03.793Z"
   },
   {
    "duration": 20,
    "start_time": "2023-06-07T18:13:03.854Z"
   },
   {
    "duration": 52,
    "start_time": "2023-06-07T18:13:03.878Z"
   },
   {
    "duration": 6,
    "start_time": "2023-06-07T18:13:03.933Z"
   },
   {
    "duration": 20,
    "start_time": "2023-06-07T18:13:03.942Z"
   },
   {
    "duration": 19,
    "start_time": "2023-06-07T18:13:03.972Z"
   },
   {
    "duration": 12,
    "start_time": "2023-06-07T18:13:03.998Z"
   },
   {
    "duration": 181,
    "start_time": "2023-06-07T18:13:04.014Z"
   },
   {
    "duration": 729,
    "start_time": "2023-06-07T18:13:04.197Z"
   },
   {
    "duration": 267,
    "start_time": "2023-06-07T18:13:04.928Z"
   },
   {
    "duration": 210,
    "start_time": "2023-06-07T18:13:05.197Z"
   },
   {
    "duration": 13,
    "start_time": "2023-06-07T18:13:05.410Z"
   },
   {
    "duration": 5,
    "start_time": "2023-06-07T18:13:06.444Z"
   },
   {
    "duration": 20,
    "start_time": "2023-06-07T18:13:06.827Z"
   },
   {
    "duration": 14,
    "start_time": "2023-06-07T18:13:07.126Z"
   },
   {
    "duration": 8,
    "start_time": "2023-06-07T18:13:07.826Z"
   },
   {
    "duration": 8,
    "start_time": "2023-06-07T18:13:08.240Z"
   },
   {
    "duration": 7,
    "start_time": "2023-06-07T18:13:09.187Z"
   },
   {
    "duration": 4,
    "start_time": "2023-06-07T18:13:09.439Z"
   },
   {
    "duration": 186,
    "start_time": "2023-06-07T18:13:10.381Z"
   },
   {
    "duration": 10,
    "start_time": "2023-06-07T18:13:18.877Z"
   },
   {
    "duration": 91,
    "start_time": "2023-06-07T18:13:18.889Z"
   },
   {
    "duration": 23,
    "start_time": "2023-06-07T18:13:18.983Z"
   },
   {
    "duration": 50,
    "start_time": "2023-06-07T18:13:19.012Z"
   },
   {
    "duration": 18,
    "start_time": "2023-06-07T18:13:19.066Z"
   },
   {
    "duration": 19,
    "start_time": "2023-06-07T18:13:19.097Z"
   },
   {
    "duration": 17,
    "start_time": "2023-06-07T18:13:19.121Z"
   },
   {
    "duration": 27,
    "start_time": "2023-06-07T18:13:19.140Z"
   },
   {
    "duration": 285,
    "start_time": "2023-06-07T18:13:19.170Z"
   },
   {
    "duration": 665,
    "start_time": "2023-06-07T18:13:19.457Z"
   },
   {
    "duration": 251,
    "start_time": "2023-06-07T18:13:20.124Z"
   },
   {
    "duration": 179,
    "start_time": "2023-06-07T18:13:20.377Z"
   },
   {
    "duration": 4,
    "start_time": "2023-06-07T18:13:20.558Z"
   },
   {
    "duration": 20,
    "start_time": "2023-06-07T18:13:20.567Z"
   },
   {
    "duration": 23,
    "start_time": "2023-06-07T18:13:20.589Z"
   },
   {
    "duration": 18,
    "start_time": "2023-06-07T18:13:20.614Z"
   },
   {
    "duration": 22,
    "start_time": "2023-06-07T18:13:20.635Z"
   },
   {
    "duration": 10,
    "start_time": "2023-06-07T18:13:20.661Z"
   },
   {
    "duration": 23,
    "start_time": "2023-06-07T18:13:20.672Z"
   },
   {
    "duration": 14,
    "start_time": "2023-06-07T18:13:20.698Z"
   },
   {
    "duration": 7478,
    "start_time": "2023-06-07T18:13:20.714Z"
   },
   {
    "duration": 0,
    "start_time": "2023-06-07T18:13:28.195Z"
   },
   {
    "duration": 0,
    "start_time": "2023-06-07T18:13:28.203Z"
   },
   {
    "duration": 0,
    "start_time": "2023-06-07T18:13:28.203Z"
   },
   {
    "duration": 0,
    "start_time": "2023-06-07T18:13:28.204Z"
   },
   {
    "duration": 0,
    "start_time": "2023-06-07T18:13:28.213Z"
   },
   {
    "duration": 0,
    "start_time": "2023-06-07T18:13:28.214Z"
   },
   {
    "duration": 0,
    "start_time": "2023-06-07T18:13:28.215Z"
   },
   {
    "duration": 0,
    "start_time": "2023-06-07T18:13:28.216Z"
   },
   {
    "duration": 4,
    "start_time": "2023-06-07T18:13:53.307Z"
   },
   {
    "duration": 66,
    "start_time": "2023-06-07T18:13:53.314Z"
   },
   {
    "duration": 25,
    "start_time": "2023-06-07T18:13:53.385Z"
   },
   {
    "duration": 33,
    "start_time": "2023-06-07T18:13:53.412Z"
   },
   {
    "duration": 29,
    "start_time": "2023-06-07T18:13:53.449Z"
   },
   {
    "duration": 8,
    "start_time": "2023-06-07T18:13:53.491Z"
   },
   {
    "duration": 14,
    "start_time": "2023-06-07T18:13:53.500Z"
   },
   {
    "duration": 35,
    "start_time": "2023-06-07T18:13:53.516Z"
   },
   {
    "duration": 185,
    "start_time": "2023-06-07T18:13:53.553Z"
   },
   {
    "duration": 765,
    "start_time": "2023-06-07T18:13:53.740Z"
   },
   {
    "duration": 280,
    "start_time": "2023-06-07T18:13:54.507Z"
   },
   {
    "duration": 155,
    "start_time": "2023-06-07T18:13:54.789Z"
   },
   {
    "duration": 5,
    "start_time": "2023-06-07T18:13:54.946Z"
   },
   {
    "duration": 6,
    "start_time": "2023-06-07T18:13:56.945Z"
   },
   {
    "duration": 19,
    "start_time": "2023-06-07T18:13:57.360Z"
   },
   {
    "duration": 13,
    "start_time": "2023-06-07T18:13:57.810Z"
   },
   {
    "duration": 7,
    "start_time": "2023-06-07T18:13:58.345Z"
   },
   {
    "duration": 11,
    "start_time": "2023-06-07T18:13:58.880Z"
   },
   {
    "duration": 4,
    "start_time": "2023-06-07T18:14:00.090Z"
   },
   {
    "duration": 3,
    "start_time": "2023-06-07T18:14:00.505Z"
   },
   {
    "duration": 11,
    "start_time": "2023-06-07T18:14:01.290Z"
   },
   {
    "duration": 6,
    "start_time": "2023-06-07T18:44:55.788Z"
   },
   {
    "duration": 81,
    "start_time": "2023-06-07T18:44:55.797Z"
   },
   {
    "duration": 21,
    "start_time": "2023-06-07T18:44:55.881Z"
   },
   {
    "duration": 35,
    "start_time": "2023-06-07T18:44:55.905Z"
   },
   {
    "duration": 20,
    "start_time": "2023-06-07T18:44:55.943Z"
   },
   {
    "duration": 16,
    "start_time": "2023-06-07T18:44:55.965Z"
   },
   {
    "duration": 12,
    "start_time": "2023-06-07T18:44:55.983Z"
   },
   {
    "duration": 10,
    "start_time": "2023-06-07T18:44:55.997Z"
   },
   {
    "duration": 187,
    "start_time": "2023-06-07T18:44:56.009Z"
   },
   {
    "duration": 601,
    "start_time": "2023-06-07T18:44:56.198Z"
   },
   {
    "duration": 239,
    "start_time": "2023-06-07T18:44:56.801Z"
   },
   {
    "duration": 176,
    "start_time": "2023-06-07T18:44:57.042Z"
   },
   {
    "duration": 10,
    "start_time": "2023-06-07T18:44:58.978Z"
   },
   {
    "duration": 9,
    "start_time": "2023-06-07T18:45:00.008Z"
   },
   {
    "duration": 10,
    "start_time": "2023-06-07T18:45:02.107Z"
   },
   {
    "duration": 7,
    "start_time": "2023-06-07T18:45:02.410Z"
   },
   {
    "duration": 7,
    "start_time": "2023-06-07T18:45:02.747Z"
   },
   {
    "duration": 3,
    "start_time": "2023-06-07T18:45:03.889Z"
   },
   {
    "duration": 4,
    "start_time": "2023-06-07T18:45:04.286Z"
   },
   {
    "duration": 11,
    "start_time": "2023-06-07T18:45:05.440Z"
   },
   {
    "duration": 1568851,
    "start_time": "2023-06-07T18:45:10.343Z"
   },
   {
    "duration": 5,
    "start_time": "2023-06-07T19:11:19.200Z"
   },
   {
    "duration": 482,
    "start_time": "2023-06-07T19:11:19.207Z"
   },
   {
    "duration": 797064,
    "start_time": "2023-06-07T19:11:19.691Z"
   },
   {
    "duration": 9,
    "start_time": "2023-06-07T19:24:36.761Z"
   },
   {
    "duration": 4148,
    "start_time": "2023-06-07T19:24:36.774Z"
   },
   {
    "duration": 2585566,
    "start_time": "2023-06-07T19:24:40.924Z"
   },
   {
    "duration": 2,
    "start_time": "2023-06-07T20:07:46.493Z"
   },
   {
    "duration": 8075,
    "start_time": "2023-06-07T20:07:46.497Z"
   },
   {
    "duration": 32,
    "start_time": "2023-06-07T20:07:55.518Z"
   },
   {
    "duration": 41757,
    "start_time": "2023-06-07T20:09:09.103Z"
   },
   {
    "duration": 279234,
    "start_time": "2023-06-07T20:09:50.862Z"
   },
   {
    "duration": 0,
    "start_time": "2023-06-07T20:14:30.098Z"
   },
   {
    "duration": 10,
    "start_time": "2023-06-07T20:14:34.004Z"
   },
   {
    "duration": 3315366,
    "start_time": "2023-06-07T20:15:30.619Z"
   },
   {
    "duration": 174,
    "start_time": "2023-06-07T21:11:06.093Z"
   },
   {
    "duration": 14,
    "start_time": "2023-06-07T21:11:38.463Z"
   },
   {
    "duration": 7,
    "start_time": "2023-06-07T21:11:56.758Z"
   },
   {
    "duration": 61,
    "start_time": "2023-06-08T15:29:29.850Z"
   },
   {
    "duration": 2179,
    "start_time": "2023-06-08T15:29:36.946Z"
   },
   {
    "duration": 220,
    "start_time": "2023-06-08T15:29:39.127Z"
   },
   {
    "duration": 13,
    "start_time": "2023-06-08T15:29:39.349Z"
   },
   {
    "duration": 31,
    "start_time": "2023-06-08T15:29:39.364Z"
   },
   {
    "duration": 7,
    "start_time": "2023-06-08T15:29:39.397Z"
   },
   {
    "duration": 18,
    "start_time": "2023-06-08T15:29:39.406Z"
   },
   {
    "duration": 10,
    "start_time": "2023-06-08T15:29:39.425Z"
   },
   {
    "duration": 10,
    "start_time": "2023-06-08T15:29:39.437Z"
   },
   {
    "duration": 175,
    "start_time": "2023-06-08T15:29:39.449Z"
   },
   {
    "duration": 670,
    "start_time": "2023-06-08T15:29:39.627Z"
   },
   {
    "duration": 219,
    "start_time": "2023-06-08T15:29:40.299Z"
   },
   {
    "duration": 174,
    "start_time": "2023-06-08T15:29:40.519Z"
   },
   {
    "duration": 5,
    "start_time": "2023-06-08T15:29:40.695Z"
   },
   {
    "duration": 44,
    "start_time": "2023-06-08T15:29:40.702Z"
   },
   {
    "duration": 9,
    "start_time": "2023-06-08T15:29:40.748Z"
   },
   {
    "duration": 7,
    "start_time": "2023-06-08T15:29:40.758Z"
   },
   {
    "duration": 16,
    "start_time": "2023-06-08T15:29:40.767Z"
   },
   {
    "duration": 30,
    "start_time": "2023-06-08T15:29:40.784Z"
   },
   {
    "duration": 9,
    "start_time": "2023-06-08T15:29:40.816Z"
   },
   {
    "duration": 196,
    "start_time": "2023-06-08T15:29:40.827Z"
   },
   {
    "duration": 0,
    "start_time": "2023-06-08T15:29:41.024Z"
   },
   {
    "duration": 0,
    "start_time": "2023-06-08T15:29:41.026Z"
   },
   {
    "duration": 0,
    "start_time": "2023-06-08T15:29:41.027Z"
   },
   {
    "duration": 0,
    "start_time": "2023-06-08T15:29:41.029Z"
   },
   {
    "duration": 0,
    "start_time": "2023-06-08T15:29:41.029Z"
   },
   {
    "duration": 0,
    "start_time": "2023-06-08T15:29:41.030Z"
   },
   {
    "duration": 0,
    "start_time": "2023-06-08T15:29:41.031Z"
   },
   {
    "duration": 0,
    "start_time": "2023-06-08T15:29:41.033Z"
   },
   {
    "duration": 0,
    "start_time": "2023-06-08T15:29:41.034Z"
   },
   {
    "duration": 0,
    "start_time": "2023-06-08T15:29:41.035Z"
   },
   {
    "duration": 0,
    "start_time": "2023-06-08T15:29:41.036Z"
   },
   {
    "duration": 0,
    "start_time": "2023-06-08T15:29:41.037Z"
   },
   {
    "duration": 0,
    "start_time": "2023-06-08T15:29:41.039Z"
   },
   {
    "duration": 453,
    "start_time": "2023-06-08T15:29:51.114Z"
   },
   {
    "duration": 6,
    "start_time": "2023-06-08T15:30:33.810Z"
   },
   {
    "duration": 14,
    "start_time": "2023-06-08T15:30:37.022Z"
   },
   {
    "duration": 13,
    "start_time": "2023-06-08T15:30:49.528Z"
   },
   {
    "duration": 6,
    "start_time": "2023-06-08T15:31:11.562Z"
   },
   {
    "duration": 12,
    "start_time": "2023-06-08T15:31:30.007Z"
   },
   {
    "duration": 8,
    "start_time": "2023-06-08T15:31:37.655Z"
   },
   {
    "duration": 6,
    "start_time": "2023-06-08T15:31:40.824Z"
   },
   {
    "duration": 9,
    "start_time": "2023-06-08T15:31:41.209Z"
   },
   {
    "duration": 3,
    "start_time": "2023-06-08T15:31:43.560Z"
   },
   {
    "duration": 4,
    "start_time": "2023-06-08T15:31:43.884Z"
   },
   {
    "duration": 12,
    "start_time": "2023-06-08T15:31:44.823Z"
   },
   {
    "duration": 23,
    "start_time": "2023-06-08T15:32:56.465Z"
   },
   {
    "duration": 15,
    "start_time": "2023-06-08T15:37:03.843Z"
   },
   {
    "duration": 21,
    "start_time": "2023-06-08T15:38:05.875Z"
   },
   {
    "duration": 100,
    "start_time": "2023-06-08T15:38:23.969Z"
   },
   {
    "duration": 121,
    "start_time": "2023-06-08T15:38:27.250Z"
   },
   {
    "duration": 120,
    "start_time": "2023-06-08T15:39:18.811Z"
   },
   {
    "duration": 121,
    "start_time": "2023-06-08T15:41:14.719Z"
   },
   {
    "duration": 13,
    "start_time": "2023-06-08T15:42:06.008Z"
   },
   {
    "duration": 10,
    "start_time": "2023-06-08T15:42:17.327Z"
   },
   {
    "duration": 13,
    "start_time": "2023-06-08T15:42:26.028Z"
   },
   {
    "duration": 6,
    "start_time": "2023-06-08T15:42:51.172Z"
   },
   {
    "duration": 3,
    "start_time": "2023-06-08T15:42:53.432Z"
   },
   {
    "duration": 5,
    "start_time": "2023-06-08T15:42:57.131Z"
   },
   {
    "duration": 11,
    "start_time": "2023-06-08T15:45:08.052Z"
   },
   {
    "duration": 9,
    "start_time": "2023-06-08T15:45:13.449Z"
   },
   {
    "duration": 4,
    "start_time": "2023-06-08T15:48:45.593Z"
   },
   {
    "duration": 165,
    "start_time": "2023-06-08T16:06:18.440Z"
   },
   {
    "duration": 5,
    "start_time": "2023-06-08T16:06:55.960Z"
   },
   {
    "duration": 158,
    "start_time": "2023-06-08T16:08:26.644Z"
   },
   {
    "duration": 200,
    "start_time": "2023-06-08T16:08:34.030Z"
   },
   {
    "duration": 17,
    "start_time": "2023-06-08T16:10:32.579Z"
   },
   {
    "duration": 206,
    "start_time": "2023-06-08T16:11:17.041Z"
   },
   {
    "duration": 211,
    "start_time": "2023-06-08T16:11:52.239Z"
   },
   {
    "duration": 231,
    "start_time": "2023-06-08T16:12:18.697Z"
   },
   {
    "duration": 302,
    "start_time": "2023-06-08T16:16:36.391Z"
   },
   {
    "duration": 44,
    "start_time": "2023-06-09T10:22:38.215Z"
   },
   {
    "duration": 1599,
    "start_time": "2023-06-09T10:22:45.509Z"
   },
   {
    "duration": 276,
    "start_time": "2023-06-09T10:22:47.110Z"
   },
   {
    "duration": 12,
    "start_time": "2023-06-09T10:22:47.388Z"
   },
   {
    "duration": 23,
    "start_time": "2023-06-09T10:22:47.402Z"
   },
   {
    "duration": 4,
    "start_time": "2023-06-09T10:22:47.426Z"
   },
   {
    "duration": 9,
    "start_time": "2023-06-09T10:22:47.431Z"
   },
   {
    "duration": 9,
    "start_time": "2023-06-09T10:22:47.441Z"
   },
   {
    "duration": 7,
    "start_time": "2023-06-09T10:22:47.451Z"
   },
   {
    "duration": 160,
    "start_time": "2023-06-09T10:22:47.459Z"
   },
   {
    "duration": 575,
    "start_time": "2023-06-09T10:22:47.621Z"
   },
   {
    "duration": 180,
    "start_time": "2023-06-09T10:22:48.198Z"
   },
   {
    "duration": 128,
    "start_time": "2023-06-09T10:22:48.380Z"
   },
   {
    "duration": 4,
    "start_time": "2023-06-09T10:22:48.509Z"
   },
   {
    "duration": 15,
    "start_time": "2023-06-09T10:22:48.514Z"
   },
   {
    "duration": 6,
    "start_time": "2023-06-09T10:22:48.530Z"
   },
   {
    "duration": 11,
    "start_time": "2023-06-09T10:22:48.537Z"
   },
   {
    "duration": 14,
    "start_time": "2023-06-09T10:22:48.549Z"
   },
   {
    "duration": 9,
    "start_time": "2023-06-09T10:22:48.564Z"
   },
   {
    "duration": 7,
    "start_time": "2023-06-09T10:22:48.574Z"
   },
   {
    "duration": 15,
    "start_time": "2023-06-09T10:22:48.582Z"
   },
   {
    "duration": 8617,
    "start_time": "2023-06-09T10:22:48.598Z"
   },
   {
    "duration": 0,
    "start_time": "2023-06-09T10:22:57.218Z"
   },
   {
    "duration": 0,
    "start_time": "2023-06-09T10:22:57.219Z"
   },
   {
    "duration": 0,
    "start_time": "2023-06-09T10:22:57.221Z"
   },
   {
    "duration": 0,
    "start_time": "2023-06-09T10:22:57.222Z"
   },
   {
    "duration": 0,
    "start_time": "2023-06-09T10:22:57.223Z"
   },
   {
    "duration": 0,
    "start_time": "2023-06-09T10:22:57.224Z"
   },
   {
    "duration": 0,
    "start_time": "2023-06-09T10:22:57.225Z"
   },
   {
    "duration": 0,
    "start_time": "2023-06-09T10:22:57.226Z"
   },
   {
    "duration": 1,
    "start_time": "2023-06-09T10:22:57.226Z"
   },
   {
    "duration": 0,
    "start_time": "2023-06-09T10:22:57.228Z"
   },
   {
    "duration": 1,
    "start_time": "2023-06-09T10:22:57.228Z"
   },
   {
    "duration": 0,
    "start_time": "2023-06-09T10:22:57.230Z"
   },
   {
    "duration": 0,
    "start_time": "2023-06-09T10:22:57.231Z"
   },
   {
    "duration": 0,
    "start_time": "2023-06-09T10:22:57.233Z"
   },
   {
    "duration": 11,
    "start_time": "2023-06-09T10:23:03.743Z"
   },
   {
    "duration": 9,
    "start_time": "2023-06-09T10:23:17.045Z"
   },
   {
    "duration": 3,
    "start_time": "2023-06-09T10:23:43.415Z"
   },
   {
    "duration": 208,
    "start_time": "2023-06-09T10:23:57.241Z"
   }
  ],
  "kernelspec": {
   "display_name": "Python 3 (ipykernel)",
   "language": "python",
   "name": "python3"
  },
  "language_info": {
   "codemirror_mode": {
    "name": "ipython",
    "version": 3
   },
   "file_extension": ".py",
   "mimetype": "text/x-python",
   "name": "python",
   "nbconvert_exporter": "python",
   "pygments_lexer": "ipython3",
   "version": "3.9.13"
  },
  "toc": {
   "base_numbering": 1,
   "nav_menu": {},
   "number_sections": true,
   "sideBar": true,
   "skip_h1_title": true,
   "title_cell": "Содержание",
   "title_sidebar": "Contents",
   "toc_cell": true,
   "toc_position": {
    "height": "calc(100% - 180px)",
    "left": "10px",
    "top": "150px",
    "width": "165px"
   },
   "toc_section_display": true,
   "toc_window_display": false
  }
 },
 "nbformat": 4,
 "nbformat_minor": 2
}
